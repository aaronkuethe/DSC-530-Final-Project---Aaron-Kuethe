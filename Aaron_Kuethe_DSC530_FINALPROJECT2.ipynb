{
 "cells": [
  {
   "cell_type": "code",
   "execution_count": 122,
   "metadata": {},
   "outputs": [
    {
     "data": {
      "text/html": [
       "<div>\n",
       "<style scoped>\n",
       "    .dataframe tbody tr th:only-of-type {\n",
       "        vertical-align: middle;\n",
       "    }\n",
       "\n",
       "    .dataframe tbody tr th {\n",
       "        vertical-align: top;\n",
       "    }\n",
       "\n",
       "    .dataframe thead th {\n",
       "        text-align: right;\n",
       "    }\n",
       "</style>\n",
       "<table border=\"1\" class=\"dataframe\">\n",
       "  <thead>\n",
       "    <tr style=\"text-align: right;\">\n",
       "      <th></th>\n",
       "      <th>Key</th>\n",
       "      <th>Key2</th>\n",
       "      <th>Key3</th>\n",
       "      <th>KeepX</th>\n",
       "      <th>ID</th>\n",
       "      <th>Year</th>\n",
       "      <th>Player</th>\n",
       "      <th>Decade</th>\n",
       "      <th>TotalGame</th>\n",
       "      <th>Pos</th>\n",
       "      <th>...</th>\n",
       "      <th>FT%</th>\n",
       "      <th>ORB</th>\n",
       "      <th>DRB</th>\n",
       "      <th>TRB</th>\n",
       "      <th>AST</th>\n",
       "      <th>STL</th>\n",
       "      <th>BLK</th>\n",
       "      <th>TOV</th>\n",
       "      <th>PF</th>\n",
       "      <th>PTS</th>\n",
       "    </tr>\n",
       "  </thead>\n",
       "  <tbody>\n",
       "    <tr>\n",
       "      <td>0</td>\n",
       "      <td>1950Curly Armstrong</td>\n",
       "      <td>1</td>\n",
       "      <td>1950Curly Armstrong1</td>\n",
       "      <td>x</td>\n",
       "      <td>0</td>\n",
       "      <td>1950</td>\n",
       "      <td>Curly Armstrong</td>\n",
       "      <td>1950</td>\n",
       "      <td>82</td>\n",
       "      <td>G-F</td>\n",
       "      <td>...</td>\n",
       "      <td>0.705</td>\n",
       "      <td>0</td>\n",
       "      <td>0</td>\n",
       "      <td>0</td>\n",
       "      <td>176</td>\n",
       "      <td>0</td>\n",
       "      <td>0</td>\n",
       "      <td>0</td>\n",
       "      <td>217</td>\n",
       "      <td>458</td>\n",
       "    </tr>\n",
       "    <tr>\n",
       "      <td>1</td>\n",
       "      <td>1950Cliff Barker</td>\n",
       "      <td>1</td>\n",
       "      <td>1950Cliff Barker1</td>\n",
       "      <td>x</td>\n",
       "      <td>1</td>\n",
       "      <td>1950</td>\n",
       "      <td>Cliff Barker</td>\n",
       "      <td>1950</td>\n",
       "      <td>82</td>\n",
       "      <td>SG</td>\n",
       "      <td>...</td>\n",
       "      <td>0.708</td>\n",
       "      <td>0</td>\n",
       "      <td>0</td>\n",
       "      <td>0</td>\n",
       "      <td>109</td>\n",
       "      <td>0</td>\n",
       "      <td>0</td>\n",
       "      <td>0</td>\n",
       "      <td>99</td>\n",
       "      <td>279</td>\n",
       "    </tr>\n",
       "    <tr>\n",
       "      <td>2</td>\n",
       "      <td>1950Leo Barnhorst</td>\n",
       "      <td>1</td>\n",
       "      <td>1950Leo Barnhorst1</td>\n",
       "      <td>x</td>\n",
       "      <td>2</td>\n",
       "      <td>1950</td>\n",
       "      <td>Leo Barnhorst</td>\n",
       "      <td>1950</td>\n",
       "      <td>82</td>\n",
       "      <td>SF</td>\n",
       "      <td>...</td>\n",
       "      <td>0.698</td>\n",
       "      <td>0</td>\n",
       "      <td>0</td>\n",
       "      <td>0</td>\n",
       "      <td>140</td>\n",
       "      <td>0</td>\n",
       "      <td>0</td>\n",
       "      <td>0</td>\n",
       "      <td>192</td>\n",
       "      <td>438</td>\n",
       "    </tr>\n",
       "    <tr>\n",
       "      <td>3</td>\n",
       "      <td>1950Ed Bartels</td>\n",
       "      <td>1</td>\n",
       "      <td>1950Ed Bartels1</td>\n",
       "      <td>x</td>\n",
       "      <td>3</td>\n",
       "      <td>1950</td>\n",
       "      <td>Ed Bartels</td>\n",
       "      <td>1950</td>\n",
       "      <td>82</td>\n",
       "      <td>F</td>\n",
       "      <td>...</td>\n",
       "      <td>0.559</td>\n",
       "      <td>0</td>\n",
       "      <td>0</td>\n",
       "      <td>0</td>\n",
       "      <td>20</td>\n",
       "      <td>0</td>\n",
       "      <td>0</td>\n",
       "      <td>0</td>\n",
       "      <td>29</td>\n",
       "      <td>63</td>\n",
       "    </tr>\n",
       "    <tr>\n",
       "      <td>4</td>\n",
       "      <td>1950Ed Bartels</td>\n",
       "      <td>2</td>\n",
       "      <td>1950Ed Bartels2</td>\n",
       "      <td>0</td>\n",
       "      <td>4</td>\n",
       "      <td>1950</td>\n",
       "      <td>Ed Bartels</td>\n",
       "      <td>1950</td>\n",
       "      <td>82</td>\n",
       "      <td>F</td>\n",
       "      <td>...</td>\n",
       "      <td>0.548</td>\n",
       "      <td>0</td>\n",
       "      <td>0</td>\n",
       "      <td>0</td>\n",
       "      <td>20</td>\n",
       "      <td>0</td>\n",
       "      <td>0</td>\n",
       "      <td>0</td>\n",
       "      <td>27</td>\n",
       "      <td>59</td>\n",
       "    </tr>\n",
       "  </tbody>\n",
       "</table>\n",
       "<p>5 rows × 59 columns</p>\n",
       "</div>"
      ],
      "text/plain": [
       "                   Key  Key2                  Key3 KeepX  ID  Year  \\\n",
       "0  1950Curly Armstrong     1  1950Curly Armstrong1     x   0  1950   \n",
       "1     1950Cliff Barker     1     1950Cliff Barker1     x   1  1950   \n",
       "2    1950Leo Barnhorst     1    1950Leo Barnhorst1     x   2  1950   \n",
       "3       1950Ed Bartels     1       1950Ed Bartels1     x   3  1950   \n",
       "4       1950Ed Bartels     2       1950Ed Bartels2     0   4  1950   \n",
       "\n",
       "            Player  Decade  TotalGame  Pos  ...    FT% ORB  DRB  TRB  AST  \\\n",
       "0  Curly Armstrong    1950         82  G-F  ...  0.705   0    0    0  176   \n",
       "1     Cliff Barker    1950         82   SG  ...  0.708   0    0    0  109   \n",
       "2    Leo Barnhorst    1950         82   SF  ...  0.698   0    0    0  140   \n",
       "3       Ed Bartels    1950         82    F  ...  0.559   0    0    0   20   \n",
       "4       Ed Bartels    1950         82    F  ...  0.548   0    0    0   20   \n",
       "\n",
       "   STL  BLK  TOV   PF  PTS  \n",
       "0    0    0    0  217  458  \n",
       "1    0    0    0   99  279  \n",
       "2    0    0    0  192  438  \n",
       "3    0    0    0   29   63  \n",
       "4    0    0    0   27   59  \n",
       "\n",
       "[5 rows x 59 columns]"
      ]
     },
     "execution_count": 122,
     "metadata": {},
     "output_type": "execute_result"
    }
   ],
   "source": [
    "import pandas as pd\n",
    "import numpy as np\n",
    "import thinkplot\n",
    "import thinkstats2\n",
    "import matplotlib.pyplot as plt\n",
    "\n",
    "data = pd.read_csv('U:\\Desktop\\AKuetheNBA2.csv')\n",
    "\n",
    "data.head()"
   ]
  },
  {
   "cell_type": "code",
   "execution_count": 123,
   "metadata": {},
   "outputs": [
    {
     "name": "stdout",
     "output_type": "stream",
     "text": [
      "0     True\n",
      "1     True\n",
      "2     True\n",
      "3     True\n",
      "4    False\n",
      "Name: KeepX, dtype: bool\n"
     ]
    }
   ],
   "source": [
    "keep_x = data['KeepX']=='x'\n",
    "print(keep_x.head())"
   ]
  },
  {
   "cell_type": "code",
   "execution_count": 124,
   "metadata": {},
   "outputs": [
    {
     "name": "stdout",
     "output_type": "stream",
     "text": [
      "(20293, 59)\n"
     ]
    }
   ],
   "source": [
    "filtered_data = data[keep_x]\n",
    "print(filtered_data.shape)"
   ]
  },
  {
   "cell_type": "code",
   "execution_count": 125,
   "metadata": {},
   "outputs": [
    {
     "name": "stdout",
     "output_type": "stream",
     "text": [
      "                   Key  Key2                  Key3 KeepX  ID  Year  \\\n",
      "0  1950Curly Armstrong     1  1950Curly Armstrong1     x   0  1950   \n",
      "1     1950Cliff Barker     1     1950Cliff Barker1     x   1  1950   \n",
      "2    1950Leo Barnhorst     1    1950Leo Barnhorst1     x   2  1950   \n",
      "3       1950Ed Bartels     1       1950Ed Bartels1     x   3  1950   \n",
      "6      1950Ralph Beard     1      1950Ralph Beard1     x   6  1950   \n",
      "\n",
      "            Player  Decade  TotalGame  Pos  ...    FT% ORB  DRB  TRB  AST  \\\n",
      "0  Curly Armstrong    1950         82  G-F  ...  0.705   0    0    0  176   \n",
      "1     Cliff Barker    1950         82   SG  ...  0.708   0    0    0  109   \n",
      "2    Leo Barnhorst    1950         82   SF  ...  0.698   0    0    0  140   \n",
      "3       Ed Bartels    1950         82    F  ...  0.559   0    0    0   20   \n",
      "6      Ralph Beard    1950         82    G  ...  0.762   0    0    0  233   \n",
      "\n",
      "   STL  BLK  TOV   PF  PTS  \n",
      "0    0    0    0  217  458  \n",
      "1    0    0    0   99  279  \n",
      "2    0    0    0  192  438  \n",
      "3    0    0    0   29   63  \n",
      "6    0    0    0  132  895  \n",
      "\n",
      "[5 rows x 59 columns]\n"
     ]
    }
   ],
   "source": [
    "print(filtered_data.head())"
   ]
  },
  {
   "cell_type": "code",
   "execution_count": null,
   "metadata": {},
   "outputs": [],
   "source": []
  },
  {
   "cell_type": "code",
   "execution_count": null,
   "metadata": {},
   "outputs": [],
   "source": []
  },
  {
   "cell_type": "code",
   "execution_count": null,
   "metadata": {},
   "outputs": [],
   "source": []
  },
  {
   "cell_type": "code",
   "execution_count": 128,
   "metadata": {},
   "outputs": [
    {
     "data": {
      "text/plain": [
       "array([[<matplotlib.axes._subplots.AxesSubplot object at 0x0000016AAD7FC1C8>]],\n",
       "      dtype=object)"
      ]
     },
     "execution_count": 128,
     "metadata": {},
     "output_type": "execute_result"
    },
    {
     "data": {
      "image/png": "[encoded data removed]",
      "text/plain": [
       "<Figure size 432x288 with 1 Axes>"
      ]
     },
     "metadata": {
      "needs_background": "light"
     },
     "output_type": "display_data"
    }
   ],
   "source": [
    "filtered_data.hist(column=\"Year\", range = [1950, 2017])\n",
    "\n",
    "# Year of the NBA season"
   ]
  },
  {
   "cell_type": "code",
   "execution_count": 129,
   "metadata": {},
   "outputs": [
    {
     "data": {
      "text/plain": [
       "array([[<matplotlib.axes._subplots.AxesSubplot object at 0x0000016AAAAA1A08>]],\n",
       "      dtype=object)"
      ]
     },
     "execution_count": 129,
     "metadata": {},
     "output_type": "execute_result"
    },
    {
     "data": {
      "image/png": "[encoded data removed]",
      "text/plain": [
       "<Figure size 432x288 with 1 Axes>"
      ]
     },
     "metadata": {
      "needs_background": "light"
     },
     "output_type": "display_data"
    }
   ],
   "source": [
    "filtered_data.hist(column=\"PTS\")\n",
    "\n",
    "# Points scored by player count"
   ]
  },
  {
   "cell_type": "code",
   "execution_count": 130,
   "metadata": {},
   "outputs": [
    {
     "data": {
      "text/plain": [
       "array([[<matplotlib.axes._subplots.AxesSubplot object at 0x0000016AAF38B6C8>]],\n",
       "      dtype=object)"
      ]
     },
     "execution_count": 130,
     "metadata": {},
     "output_type": "execute_result"
    },
    {
     "data": {
      "image/png": "[encoded data removed]",
      "text/plain": [
       "<Figure size 432x288 with 1 Axes>"
      ]
     },
     "metadata": {
      "needs_background": "light"
     },
     "output_type": "display_data"
    }
   ],
   "source": [
    "filtered_data.hist(column=\"AST\")\n",
    "\n",
    "# Assists by player count"
   ]
  },
  {
   "cell_type": "code",
   "execution_count": 131,
   "metadata": {},
   "outputs": [
    {
     "data": {
      "text/plain": [
       "(1950, 2020)"
      ]
     },
     "execution_count": 131,
     "metadata": {},
     "output_type": "execute_result"
    },
    {
     "data": {
      "image/png": "[encoded data removed]",
      "text/plain": [
       "<Figure size 432x288 with 1 Axes>"
      ]
     },
     "metadata": {
      "needs_background": "light"
     },
     "output_type": "display_data"
    }
   ],
   "source": [
    "scatt = filtered_data.plot(kind='scatter', x='Year', y='PTS')\n",
    "scatt.set_xlim(1950,2020)"
   ]
  },
  {
   "cell_type": "code",
   "execution_count": 132,
   "metadata": {},
   "outputs": [
    {
     "name": "stdout",
     "output_type": "stream",
     "text": [
      "Decade\n",
      "1950     606854\n",
      "1960     893905\n",
      "1970    1633039\n",
      "1980    2058786\n",
      "1990    2210547\n",
      "2000    2344815\n",
      "2010    1930602\n",
      "Name: PTS, dtype: int64\n"
     ]
    }
   ],
   "source": [
    "pts_group_decade = filtered_data.groupby('Decade').PTS.sum()\n",
    "print(pts_group_decade)"
   ]
  },
  {
   "cell_type": "code",
   "execution_count": 133,
   "metadata": {},
   "outputs": [
    {
     "name": "stdout",
     "output_type": "stream",
     "text": [
      "Decade\n",
      "1950    140515\n",
      "1960    176567\n",
      "1970    368841\n",
      "1980    486783\n",
      "1990    512866\n",
      "2000    519364\n",
      "2010    419912\n",
      "Name: AST, dtype: int64\n"
     ]
    }
   ],
   "source": [
    "ast_group_decade = filtered_data.groupby('Decade').AST.sum()\n",
    "print(ast_group_decade)"
   ]
  },
  {
   "cell_type": "code",
   "execution_count": 134,
   "metadata": {},
   "outputs": [
    {
     "name": "stdout",
     "output_type": "stream",
     "text": [
      "Decade\n",
      "1950         0\n",
      "1960         0\n",
      "1970     88907\n",
      "1980    165830\n",
      "1990    184156\n",
      "2000    183461\n",
      "2010    146332\n",
      "Name: STL, dtype: int64\n"
     ]
    }
   ],
   "source": [
    "stl_group_decade = filtered_data.groupby('Decade').STL.sum()\n",
    "print(stl_group_decade)"
   ]
  },
  {
   "cell_type": "code",
   "execution_count": 135,
   "metadata": {},
   "outputs": [
    {
     "name": "stdout",
     "output_type": "stream",
     "text": [
      "Decade\n",
      "1950         0\n",
      "1960         0\n",
      "1970     47300\n",
      "1980    101339\n",
      "1990    112191\n",
      "2000    119489\n",
      "2010     93886\n",
      "Name: BLK, dtype: int64\n"
     ]
    }
   ],
   "source": [
    "blk_group_decade = filtered_data.groupby('Decade').BLK.sum()\n",
    "print(blk_group_decade)"
   ]
  },
  {
   "cell_type": "code",
   "execution_count": 136,
   "metadata": {},
   "outputs": [
    {
     "name": "stdout",
     "output_type": "stream",
     "text": [
      "Decade\n",
      "1950         0\n",
      "1960         0\n",
      "1970     70888\n",
      "1980    331923\n",
      "1990    333080\n",
      "2000    340273\n",
      "2010    263819\n",
      "Name: TOV, dtype: int64\n"
     ]
    }
   ],
   "source": [
    "tov_group_decade = filtered_data.groupby('Decade').TOV.sum()\n",
    "print(tov_group_decade)"
   ]
  },
  {
   "cell_type": "code",
   "execution_count": 137,
   "metadata": {},
   "outputs": [
    {
     "name": "stdout",
     "output_type": "stream",
     "text": [
      "Decade\n",
      "1950    177576\n",
      "1960    202854\n",
      "1970    369435\n",
      "1980    469841\n",
      "1990    496186\n",
      "2000    531577\n",
      "2010    389222\n",
      "Name: PF, dtype: int64\n"
     ]
    }
   ],
   "source": [
    "pf_group_decade = filtered_data.groupby('Decade').PF.sum()\n",
    "print(pf_group_decade)"
   ]
  },
  {
   "cell_type": "code",
   "execution_count": 138,
   "metadata": {},
   "outputs": [
    {
     "name": "stdout",
     "output_type": "stream",
     "text": [
      "Decade\n",
      "1950    236542\n",
      "1960    281041\n",
      "1970    427351\n",
      "1980    549309\n",
      "1990    585665\n",
      "2000    606731\n",
      "2010    447849\n",
      "Name: FTA, dtype: int64\n"
     ]
    }
   ],
   "source": [
    "fta_group_decade = filtered_data.groupby('Decade').FTA.sum()\n",
    "print(fta_group_decade)"
   ]
  },
  {
   "cell_type": "code",
   "execution_count": 139,
   "metadata": {},
   "outputs": [
    {
     "name": "stdout",
     "output_type": "stream",
     "text": [
      "Decade\n",
      "1950    173238\n",
      "1960    203687\n",
      "1970    322231\n",
      "1980    416215\n",
      "1990    437143\n",
      "2000    457408\n",
      "2010    339490\n",
      "Name: FT, dtype: int64\n"
     ]
    }
   ],
   "source": [
    "ft_group_decade = filtered_data.groupby('Decade').FT.sum()\n",
    "print(ft_group_decade)"
   ]
  },
  {
   "cell_type": "code",
   "execution_count": 140,
   "metadata": {},
   "outputs": [
    {
     "name": "stdout",
     "output_type": "stream",
     "text": [
      "Decade\n",
      "1950    173238\n",
      "1960    203687\n",
      "1970    322231\n",
      "1980    416215\n",
      "1990    437143\n",
      "2000    457408\n",
      "2010    339490\n",
      "Name: FT, dtype: int64\n"
     ]
    }
   ],
   "source": [
    "ft_group_decade = filtered_data.groupby('Decade').FT.sum()\n",
    "print(ft_group_decade)"
   ]
  },
  {
   "cell_type": "code",
   "execution_count": 143,
   "metadata": {},
   "outputs": [
    {
     "name": "stdout",
     "output_type": "stream",
     "text": [
      "Decade\n",
      "1950    82.000000\n",
      "1960    82.000000\n",
      "1970    82.000000\n",
      "1980    82.000000\n",
      "1990    78.565016\n",
      "2000    82.000000\n",
      "2010    79.974040\n",
      "Name: TotalGame, dtype: float64\n"
     ]
    }
   ],
   "source": [
    "games_group_decade = filtered_data.groupby('Decade')['TotalGame'].mean()\n",
    "print(games_group_decade)"
   ]
  },
  {
   "cell_type": "code",
   "execution_count": null,
   "metadata": {},
   "outputs": [],
   "source": []
  }
 ],
 "metadata": {
  "kernelspec": {
   "display_name": "Python 3",
   "language": "python",
   "name": "python3"
  },
  "language_info": {
   "codemirror_mode": {
    "name": "ipython",
    "version": 3
   },
   "file_extension": ".py",
   "mimetype": "text/x-python",
   "name": "python",
   "nbconvert_exporter": "python",
   "pygments_lexer": "ipython3",
   "version": "3.7.4"
  }
 },
 "nbformat": 4,
 "nbformat_minor": 2
}
